{
 "cells": [
  {
   "cell_type": "markdown",
   "metadata": {},
   "source": [
    "# <span style=\"color:blue\">Programação Python para Ciência de Dados</span>\n",
    "\n",
    "## <span style=\"color:blue\">Prática Módulo 1: Python I</span>\n",
    "\n",
    "Nesses exercícios estaremos lidando com dados reais de gastos de deputados. Temos informações referentes a diversos pedidos de reembolso, tendo o nome do deputado, seu estado, seu partido e o valor do reembolso solicitado.\n",
    "\n",
    "\n",
    "Estaremos usando uma versão tratada da seguinte base de dados:\n",
    "\n",
    "https://www.kaggle.com/epattaro/brazils-house-of-deputies-reimbursements"
   ]
  },
  {
   "cell_type": "markdown",
   "metadata": {},
   "source": [
    "Ignore o código a seguir por enquanto, estamos somente carregando os dados. Logo veremos tudo que é necessário para entender como ele funciona."
   ]
  },
  {
   "cell_type": "code",
   "execution_count": 6,
   "metadata": {
    "collapsed": true
   },
   "outputs": [],
   "source": [
    "def carregar_dados():\n",
    "    \"\"\"\n",
    "    Função que carrega a base de dados como uma lista de tuplas\n",
    "    \"\"\"\n",
    "    with open('gastos_deputados.csv', 'r',encoding = 'utf-8') as f:\n",
    "        content = f.readlines()\n",
    "    content = [x.strip() for x in content]\n",
    "    data = [line.split(',') for line in content]\n",
    "    for line in data:\n",
    "        line[-1] = float(line[-1])\n",
    "    data = [tuple(line) for line in data]\n",
    "\n",
    "    return data"
   ]
  },
  {
   "cell_type": "markdown",
   "metadata": {},
   "source": [
    "O código abaixo carrega os dados que iremos trabalhar. Eles estão organizados em uma lista de tuplas, onde cada tupla contém as informações de um reembolso. Como a seguir:\n",
    "\n",
    "```python\n",
    "dados = [(NOME, ESTADO, PARTIDO, VALOR),\n",
    "         (NOME, ESTADO, PARTIDO, VALOR),\n",
    "         ...\n",
    "         (NOME, ESTADO, PARTIDO, VALOR)]\n",
    "```"
   ]
  },
  {
   "cell_type": "code",
   "execution_count": 7,
   "metadata": {},
   "outputs": [],
   "source": [
    "dados = carregar_dados()"
   ]
  },
  {
   "cell_type": "markdown",
   "metadata": {},
   "source": [
    "### Perguntas\n",
    "#### 1- Qual é o valor total solicitado em reembolsos?\n",
    "#### 2- Qual é o valor médio solicitado em reembolsos?\n",
    "#### 3- Qual estado possui um valor total maior em reembolsos, GO ou MT?\n",
    "#### 4- Qual região possui um valor médio menor em reembolsos, sul ou sudeste?\n",
    "#### 6- Qual o total de pedidos realizados por deputados do DEM-RJ?\n",
    "#### 7- Crie uma lista apenas com os pedidos maiores que 500 reais\n",
    "#### 8- Qual é o número de pedidos realizados por cada partido?\n",
    "#### 9- Liste todos os partidos presentes na base (dica: pesquise pelo tipo de dados *set*)\n",
    "#### 10 **- Liste os deputados que possuem solicitações de reembolso maiores que 10 mil reais  \n",
    "\n",
    "** faça upload de um notebook com a solução da questão 10 no google drive no diretório: <br><br>\n",
    "[http://tiny.cc/dsvycz](http://tiny.cc/dsvycz)\n",
    "\n",
    "O nome do notebook deve ser: <br><br>\n",
    "_seuprimeironome-seuultimonome-modulo1.ipynb_\n",
    "\n",
    "Por exemplo: _gustavo-nonato-modulo1.ipynb_\n"
   ]
  },
  {
   "cell_type": "code",
   "execution_count": 128,
   "metadata": {
    "scrolled": true
   },
   "outputs": [
    {
     "name": "stdout",
     "output_type": "stream",
     "text": [
      "[1] - O valor total solicitado de reembolso é de R$ 2041293.079999996\n",
      "[2] - O valor médio solicitado de reembolso é de R$ 603.5757185097564\n",
      "[3] - O estado de GO possui um valor maior em Reembolso, sendo igual à R$ 55736.48999999999\n",
      "[4] - A região Sul possui um valor médio menor em Reembolso, sendo igual à R$ 511.45411935953416\n",
      "[6] - O total solicitado de reembolso pelo DEM-RJ é de R$ 26682.97\n",
      "['PSB', 'PTB', 'PMDB', 'PSOL', 'SD', 'PSDB', 'PTN', 'PT', 'PDT', 'PPS', 'PP', 'PR', 'PSD', 'PROS', 'PRB', 'PHS', 'DEM', 'REDE', 'PV', 'PCdoB', 'PMB', 'PSC', 'PTdoB', 'PEN', 'PRP', 'PSL', 'PRTB']\n",
      "{'PSB': 207, 'PTB': 114, 'PMDB': 429, 'PSOL': 36, 'SD': 83, 'PSDB': 349, 'PTN': 90, 'PT': 485, 'PDT': 116, 'PPS': 61, 'PP': 320, 'PR': 283, 'PSD': 173, 'PROS': 33, 'PRB': 129, 'PHS': 50, 'DEM': 160, 'REDE': 26, 'PV': 54, 'PCdoB': 96, 'PMB': 6, 'PSC': 29, 'PTdoB': 19, 'PEN': 10, 'PRP': 3, 'PSL': 18, 'PRTB': 3}\n",
      "3382\n",
      "55736.48999999999\n",
      "18786.260000000002\n",
      "518.7874135338336\n",
      "511.45411935953416\n"
     ]
    }
   ],
   "source": [
    "#print(dados)\n",
    "soma = 0\n",
    "soma_go = 0\n",
    "soma_mt = 0\n",
    "soma_sud = 0\n",
    "soma_sul = 0\n",
    "count = 0\n",
    "count_sud = 0\n",
    "count_sul = 0\n",
    "soma_dem_rj = 0\n",
    "l_up_500 = []\n",
    "l_up_10000 = []\n",
    "l_soma_part = []\n",
    "l_partidos = []\n",
    "dict_partidos = {}\n",
    "\n",
    "for tup in dados:\n",
    "    count += 1\n",
    "    soma += tup[3]\n",
    "    \n",
    "    if tup[2] not in l_partidos:\n",
    "        l_partidos.append(tup[2])    \n",
    "        dict_partidos[tup[2]] = 1\n",
    "    else:\n",
    "        dict_partidos[tup[2]] += 1\n",
    "         \n",
    "    \n",
    "    \n",
    "    if tup[1] == 'GO':\n",
    "        soma_go += tup[3]\n",
    "    elif tup[1] == 'MT':\n",
    "        soma_mt += tup[3]\n",
    "        \n",
    "    if tup[1] == 'SP' or tup[1] == 'RJ' or tup[1] == 'ES' or tup[1] == 'MG':\n",
    "        count_sud += 1\n",
    "        soma_sud += tup[3]\n",
    "    \n",
    "    if tup[1] == 'PR' or tup[1] == 'SC' or tup[1] == 'RS':\n",
    "        count_sul += 1\n",
    "        soma_sul += tup[3]\n",
    "    \n",
    "    if tup[1] == 'RJ' and tup[2] == 'DEM':\n",
    "        soma_dem_rj += tup[3]\n",
    "    \n",
    "    if tup[3]>500:\n",
    "        l_up_500.append(tup)\n",
    "    \n",
    "    if tup[3]>10000:\n",
    "        l_up_10000.append(tup[0])\n",
    "\n",
    "        \n",
    "    \n",
    "media = soma/count\n",
    "media_sud = soma_sud/count_sud\n",
    "media_sul = soma_sul/count_sul\n",
    "    \n",
    "print('[1] - O valor total solicitado de reembolso é de R$ ' + str(soma))  \n",
    "print('[2] - O valor médio solicitado de reembolso é de R$ ' + str(media))\n",
    "\n",
    "if soma_go>soma_mt:\n",
    "    print('[3] - O estado de GO possui um valor maior em Reembolso, sendo igual à R$ ' + str(soma_go))\n",
    "else:\n",
    "    print('[3] - O estado de MT possui um valor maior em Reembolso, sendo igual à R$ ' + str(soma_mt))\n",
    "\n",
    "if media_sud<media_sul:\n",
    "    print('[4] - A região Sudeste possui um valor médio menor em Reembolso, sendo igual à R$ ' + str(media_sud))\n",
    "else:\n",
    "    print('[4] - A região Sul possui um valor médio menor em Reembolso, sendo igual à R$ ' + str(media_sul))\n",
    "\n",
    "print('[6] - O total solicitado de reembolso pelo DEM-RJ é de R$ ' + str(soma_dem_rj))\n",
    "\n",
    "\n",
    "#print(part)\n",
    "print(l_partidos)\n",
    "print(dict_partidos)\n",
    "#print('[7] - Lista com pedidos acima de R$500,00:' + str(l_up_500))\n",
    "#print('[10] - Os seguintes deputados  R$500,00:' + str(l_up_500))\n",
    "print(count)\n",
    "print(soma_go)\n",
    "print(soma_mt)\n",
    "print(media_sud)\n",
    "print(media_sul)\n"
   ]
  },
  {
   "cell_type": "code",
   "execution_count": null,
   "metadata": {
    "collapsed": true
   },
   "outputs": [],
   "source": []
  },
  {
   "cell_type": "code",
   "execution_count": 22,
   "metadata": {},
   "outputs": [
    {
     "name": "stdout",
     "output_type": "stream",
     "text": [
      "O valor médio solicitado de reembolso é de R$ 603.5757185097564\n"
     ]
    }
   ],
   "source": [
    "media = soma/count\n",
    "print('O valor médio solicitado de reembolso é de R$ ' + str(media))"
   ]
  },
  {
   "cell_type": "code",
   "execution_count": null,
   "metadata": {
    "collapsed": true
   },
   "outputs": [],
   "source": [
    "print('[7] - Lista com pedidos acima de R$500,00:' + str(l_up_500))"
   ]
  }
 ],
 "metadata": {
  "kernelspec": {
   "display_name": "Python 3",
   "language": "python",
   "name": "python3"
  },
  "language_info": {
   "codemirror_mode": {
    "name": "ipython",
    "version": 3
   },
   "file_extension": ".py",
   "mimetype": "text/x-python",
   "name": "python",
   "nbconvert_exporter": "python",
   "pygments_lexer": "ipython3",
   "version": "3.6.1"
  },
  "toc": {
   "base_numbering": 1,
   "nav_menu": {},
   "number_sections": true,
   "sideBar": true,
   "skip_h1_title": false,
   "title_cell": "Table of Contents",
   "title_sidebar": "Contents",
   "toc_cell": false,
   "toc_position": {},
   "toc_section_display": true,
   "toc_window_display": false
  }
 },
 "nbformat": 4,
 "nbformat_minor": 2
}
