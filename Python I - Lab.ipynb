{
 "cells": [
  {
   "cell_type": "markdown",
   "metadata": {},
   "source": [
    "# <span style=\"color:blue\">Programação Python para Ciência de Dados</span>\n",
    "\n",
    "## <span style=\"color:blue\">Exercícios Python I</span>"
   ]
  },
  {
   "cell_type": "markdown",
   "metadata": {},
   "source": [
    "#### 1) Declare uma variável *preco_dolar* e outra *preco_celular* com os valores 3.98 e 849, respectivamente. Realize a conversão do preço desse celular para real e imprima o resultado"
   ]
  },
  {
   "cell_type": "code",
   "execution_count": 1,
   "metadata": {},
   "outputs": [
    {
     "name": "stdout",
     "output_type": "stream",
     "text": [
      "3379.02\n"
     ]
    }
   ],
   "source": [
    "preco_celular = 849\n",
    "preco_dolar = 3.98\n",
    "\n",
    "preco_convertido = preco_celular * preco_dolar\n",
    "print(preco_convertido)"
   ]
  },
  {
   "cell_type": "markdown",
   "metadata": {},
   "source": [
    "#### 2) Supondo produtos que custam 35.90, 23.40 e 12.49 calcule a média de preço entre eles utilizando os operadores do Python"
   ]
  },
  {
   "cell_type": "code",
   "execution_count": 35,
   "metadata": {},
   "outputs": [
    {
     "name": "stdout",
     "output_type": "stream",
     "text": [
      "[35.9, 23.4, 12.49]\n",
      "23.93\n"
     ]
    }
   ],
   "source": [
    "from statistics import mean #\n",
    "#prod1 = 35.90\n",
    "#prod2 = 23.40\n",
    "#prod3 = 12.49\n",
    "valores = [35.90,23.40,12.49]\n",
    "print(valores)\n",
    "#media_preco = (prod1 + prod2 + prod3)/3\n",
    "media_preco = mean(valores)\n",
    "print(media_preco)"
   ]
  },
  {
   "cell_type": "markdown",
   "metadata": {},
   "source": [
    "#### 3) Imprima os primeiros quatro elementos da lista a seguir"
   ]
  },
  {
   "cell_type": "code",
   "execution_count": 6,
   "metadata": {},
   "outputs": [
    {
     "name": "stdout",
     "output_type": "stream",
     "text": [
      "['python', 'java', 'c++', 'javascript']\n"
     ]
    }
   ],
   "source": [
    "minha_lista = ['python', 'java', 'c++', 'javascript', 'c#', 'go', 'r']\n",
    "\n",
    "# Insira seu código a partir daqui\n",
    "print(minha_lista[0:4])"
   ]
  },
  {
   "cell_type": "markdown",
   "metadata": {},
   "source": [
    "#### 4) Dada a seguinte lista com valores calcule e imprima a soma total"
   ]
  },
  {
   "cell_type": "code",
   "execution_count": 55,
   "metadata": {},
   "outputs": [
    {
     "name": "stdout",
     "output_type": "stream",
     "text": [
      "368\n"
     ]
    }
   ],
   "source": [
    "lista_valores = [4, 6, 2, 34, 76, 123, 1, 9, 5, 76, 32]\n",
    "\n",
    "# Insira seu código a partir daqui\n",
    "print(sum(lista_valores))\n",
    "#soma = 0\n",
    "#for i in lista_valores:\n",
    "    #soma = soma + i\n",
    " #   soma += i\n",
    "#print(soma)"
   ]
  },
  {
   "cell_type": "markdown",
   "metadata": {},
   "source": [
    "#### 5) Dada lista de nomes a seguir:"
   ]
  },
  {
   "cell_type": "code",
   "execution_count": 12,
   "metadata": {},
   "outputs": [],
   "source": [
    "meus_nomes = ['Matheus', 'Gabriel', 'Gustavo', 'Hugo', 'Ricardo', 'Rui', 'Guilherme', 'Luiz']"
   ]
  },
  {
   "cell_type": "markdown",
   "metadata": {},
   "source": [
    "##### a) Imprima apenas nomes que começam com a letra G"
   ]
  },
  {
   "cell_type": "code",
   "execution_count": 17,
   "metadata": {},
   "outputs": [
    {
     "name": "stdout",
     "output_type": "stream",
     "text": [
      "Gabriel\n",
      "Gustavo\n",
      "Guilherme\n"
     ]
    }
   ],
   "source": [
    "for name in meus_nomes:\n",
    "    #print(name[0])\n",
    "    if name[0] == \"G\":\n",
    "        print(name)\n"
   ]
  },
  {
   "cell_type": "markdown",
   "metadata": {},
   "source": [
    "##### b) Imprima apenas nomes com seis ou menos letras"
   ]
  },
  {
   "cell_type": "code",
   "execution_count": 20,
   "metadata": {},
   "outputs": [
    {
     "name": "stdout",
     "output_type": "stream",
     "text": [
      "Hugo\n",
      "Rui\n",
      "Luiz\n"
     ]
    }
   ],
   "source": [
    "for name in meus_nomes:\n",
    "    if len(name) <= 6:\n",
    "        print(name)"
   ]
  },
  {
   "cell_type": "markdown",
   "metadata": {},
   "source": [
    "#### 6) Dada a lista de números a seguir, crie uma lista apenas com os números multiplos de 3"
   ]
  },
  {
   "cell_type": "code",
   "execution_count": 75,
   "metadata": {},
   "outputs": [
    {
     "name": "stdout",
     "output_type": "stream",
     "text": [
      "[342, 12, 45, 123, 567]\n",
      "[342, 12, 45, 123, 567]\n"
     ]
    }
   ],
   "source": [
    "meus_numeros = [1, 56, 342, 12, 781, 23, 43, 45, 123, 567]\n",
    "\n",
    "# Insira seu código a partir daqui\n",
    "lista = []\n",
    "for number in meus_numeros:\n",
    "    resto = number % 3 #divisao com % pega o resto. divisao com // retorna o inteiro\n",
    "    if (resto) == 0:\n",
    "        lista.append(number)\n",
    "print(lista)\n",
    " \n",
    "lista = [numero for numero in meus_numeros if numero % 3 == 0]\n",
    "lista\n",
    "print(lista)"
   ]
  },
  {
   "cell_type": "markdown",
   "metadata": {},
   "source": [
    "#### 7) Considerando uma lista onde cada elemento é uma lista que representa notas dadas a um produto, calcule a média de notas de cada produto, salvando o resultado em uma nova lista"
   ]
  },
  {
   "cell_type": "code",
   "execution_count": 54,
   "metadata": {},
   "outputs": [
    {
     "name": "stdout",
     "output_type": "stream",
     "text": [
      "[2.6666666666666665, 5.775, 8.16, 8.7, 3.525]\n"
     ]
    }
   ],
   "source": [
    "from statistics import mean\n",
    "\n",
    "minhas_notas = [[2.3, 4.5, 1.2], # Notas do produto 1\n",
    "                [5.4, 3.6, 7.9, 6.2], # Notas do produto 2\n",
    "                [8.1, 8.9, 6.5, 7.9, 9.4], # ...\n",
    "                [9.8, 7.6],\n",
    "                [3.2, 4.5, 1.6, 4.8]]\n",
    "\n",
    "# Insira seu código a partir daqui\n",
    "medias =[]\n",
    "for listas in minhas_notas:\n",
    "    medias.append(mean(listas))\n",
    "print(medias)"
   ]
  },
  {
   "cell_type": "markdown",
   "metadata": {},
   "source": [
    "#### 8) Dado o dicionário abaixo, o qual contém preços de imóveis em uma cidade, escreva códigos para encontrar:"
   ]
  },
  {
   "cell_type": "code",
   "execution_count": 71,
   "metadata": {},
   "outputs": [],
   "source": [
    "preco_imoveis = {'Apartamento centro': 1250000,\n",
    "               'Apartamento suburbio': 500000,\n",
    "               'Casa cinco quartos': 750000,\n",
    "               'Casa com garagem': 300000,\n",
    "               'Casa com piscina': 1200000,\n",
    "               'Sitio pequeno': 3000000,\n",
    "               'Sitio com lago': 5500000}"
   ]
  },
  {
   "cell_type": "markdown",
   "metadata": {},
   "source": [
    "##### a) Qual é o preço total?"
   ]
  },
  {
   "cell_type": "code",
   "execution_count": 109,
   "metadata": {},
   "outputs": [
    {
     "name": "stdout",
     "output_type": "stream",
     "text": [
      "12500000\n"
     ]
    }
   ],
   "source": [
    "print(sum(list(preco_imoveis.values())))"
   ]
  },
  {
   "cell_type": "markdown",
   "metadata": {},
   "source": [
    "##### b) Quem possui o maior preço?"
   ]
  },
  {
   "cell_type": "code",
   "execution_count": 120,
   "metadata": {},
   "outputs": [
    {
     "name": "stdout",
     "output_type": "stream",
     "text": [
      "Sitio com lago\n",
      "12500000\n"
     ]
    }
   ],
   "source": [
    "#for imovel, preco in preco_imoveis.items():\n",
    "#    print(imovel,'-->',preco)\n",
    "\n",
    "maior_preco = 0\n",
    "for imovel, preco in preco_imoveis.items():\n",
    "    if preco > maior_preco:\n",
    "        imovel_mais_caro = imovel\n",
    "        maior_preco = preco\n",
    "print(imovel_mais_caro)\n",
    "\n",
    "# EX: Como fazer isso sem usar o for. Dica: Extrais os valores, pegar o maior valor e achar a chave.\n",
    "\n",
    "max_value = sum(list(preco_imoveis.values()))\n",
    "print(max_value)"
   ]
  },
  {
   "cell_type": "markdown",
   "metadata": {},
   "source": [
    "#### 9) Escreva código para contar o número de ocorrencias de cada letra na string fornecida"
   ]
  },
  {
   "cell_type": "code",
   "execution_count": 125,
   "metadata": {},
   "outputs": [
    {
     "name": "stdout",
     "output_type": "stream",
     "text": [
      "[['s', 2], ['c', 2], ['i', 3], ['e', 2], ['n', 2], ['t', 1], ['i', 3], ['a', 1], [' ', 1], ['v', 1], ['i', 3], ['n', 2], ['c', 2], ['e', 2], ['s', 2]]\n",
      "{'s': 2, 'c': 2, 'i': 3, 'e': 2, 'n': 2, 't': 1, 'a': 1, ' ': 1, 'v': 1}\n"
     ]
    },
    {
     "data": {
      "text/plain": [
       "Counter({'s': 2,\n",
       "         'c': 2,\n",
       "         'i': 3,\n",
       "         'e': 2,\n",
       "         'n': 2,\n",
       "         't': 1,\n",
       "         'a': 1,\n",
       "         ' ': 1,\n",
       "         'v': 1})"
      ]
     },
     "execution_count": 125,
     "metadata": {},
     "output_type": "execute_result"
    }
   ],
   "source": [
    "minha_string = \"scientia vinces\"\n",
    "\n",
    "# Insira seu código a partir daqui\n",
    "lista = []\n",
    "for substring in minha_string:\n",
    "    lista.append([substring, minha_string.count(substring)])\n",
    "print(lista)\n",
    "\n",
    "ocor = {}\n",
    "for letra in minha_string:\n",
    "    if letra not in ocor:\n",
    "        ocor[letra] = 1\n",
    "    else:\n",
    "        ocor[letra] +=1\n",
    "print(ocor)\n",
    "\n",
    "from collections import Counter\n",
    "Counter(minha_string)"
   ]
  },
  {
   "cell_type": "markdown",
   "metadata": {},
   "source": [
    "#### 10) Escreva código que seleciona aleatóriamente um nome da lista de nomes fornecida"
   ]
  },
  {
   "cell_type": "code",
   "execution_count": 95,
   "metadata": {},
   "outputs": [
    {
     "name": "stdout",
     "output_type": "stream",
     "text": [
      "Waldir Peres\n"
     ]
    }
   ],
   "source": [
    "meus_nomes = ['Waldir Peres', 'Luizinho', 'Oscar', \n",
    "              'Junior', 'Leandro', 'Cerezo', \n",
    "              'Falcão', 'Éder', 'Zico', 'Sócrates', 'Serginho']\n",
    "\n",
    "# Insira seu código a partir daqui\n",
    "import random as rd\n",
    "print(meus_nomes[rd.randint(0,len(meus_nomes)-1)])\n"
   ]
  },
  {
   "cell_type": "code",
   "execution_count": null,
   "metadata": {},
   "outputs": [],
   "source": []
  },
  {
   "cell_type": "code",
   "execution_count": null,
   "metadata": {},
   "outputs": [],
   "source": []
  }
 ],
 "metadata": {
  "kernelspec": {
   "display_name": "Python 3",
   "language": "python",
   "name": "python3"
  },
  "language_info": {
   "codemirror_mode": {
    "name": "ipython",
    "version": 3
   },
   "file_extension": ".py",
   "mimetype": "text/x-python",
   "name": "python",
   "nbconvert_exporter": "python",
   "pygments_lexer": "ipython3",
   "version": "3.7.3"
  },
  "toc": {
   "base_numbering": 1,
   "nav_menu": {},
   "number_sections": true,
   "sideBar": true,
   "skip_h1_title": false,
   "title_cell": "Table of Contents",
   "title_sidebar": "Contents",
   "toc_cell": false,
   "toc_position": {},
   "toc_section_display": true,
   "toc_window_display": false
  }
 },
 "nbformat": 4,
 "nbformat_minor": 2
}
